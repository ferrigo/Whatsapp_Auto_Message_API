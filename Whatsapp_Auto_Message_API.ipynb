{
 "cells": [
  {
   "cell_type": "code",
   "execution_count": 5,
   "id": "5e90b559",
   "metadata": {},
   "outputs": [],
   "source": [
    "from selenium import webdriver\n",
    "from selenium.webdriver.common.keys import Keys\n",
    "from selenium.webdriver.common.by import By\n",
    "\n",
    "nav = webdriver.Chrome()\n",
    "nav.get(\"https://web.whatsapp.com\")"
   ]
  },
  {
   "cell_type": "code",
   "execution_count": 1,
   "id": "7b52db19",
   "metadata": {},
   "outputs": [
    {
     "data": {
      "text/html": [
       "<div>\n",
       "<style scoped>\n",
       "    .dataframe tbody tr th:only-of-type {\n",
       "        vertical-align: middle;\n",
       "    }\n",
       "\n",
       "    .dataframe tbody tr th {\n",
       "        vertical-align: top;\n",
       "    }\n",
       "\n",
       "    .dataframe thead th {\n",
       "        text-align: right;\n",
       "    }\n",
       "</style>\n",
       "<table border=\"1\" class=\"dataframe\">\n",
       "  <thead>\n",
       "    <tr style=\"text-align: right;\">\n",
       "      <th></th>\n",
       "      <th>name</th>\n",
       "      <th>message</th>\n",
       "      <th>file</th>\n",
       "      <th>phone</th>\n",
       "    </tr>\n",
       "  </thead>\n",
       "  <tbody>\n",
       "    <tr>\n",
       "      <th>0</th>\n",
       "      <td>PersonA</td>\n",
       "      <td>Hi, PersonX. Check out my github page! By Ferrigo</td>\n",
       "      <td>N</td>\n",
       "      <td>111111111</td>\n",
       "    </tr>\n",
       "    <tr>\n",
       "      <th>1</th>\n",
       "      <td>PersonB</td>\n",
       "      <td>Hi, PersonX. Check out my github page! By Ferrigo</td>\n",
       "      <td>ferrigo.html</td>\n",
       "      <td>111111111</td>\n",
       "    </tr>\n",
       "  </tbody>\n",
       "</table>\n",
       "</div>"
      ],
      "text/plain": [
       "      name                                            message          file  \\\n",
       "0  PersonA  Hi, PersonX. Check out my github page! By Ferrigo             N   \n",
       "1  PersonB  Hi, PersonX. Check out my github page! By Ferrigo  ferrigo.html   \n",
       "\n",
       "       phone  \n",
       "0  111111111  \n",
       "1  111111111  "
      ]
     },
     "metadata": {},
     "output_type": "display_data"
    }
   ],
   "source": [
    "import pandas as pd\n",
    "df = pd.read_excel(\"contacts.xlsx\")\n",
    "display(df)"
   ]
  },
  {
   "cell_type": "code",
   "execution_count": 13,
   "id": "55f82288",
   "metadata": {},
   "outputs": [],
   "source": [
    "import urllib3\n",
    "import time\n",
    "\n",
    "for row in df.index:\n",
    "    name = df.loc[row,\"name\"]\n",
    "    message = df.loc[row,\"message\"]\n",
    "    file = df.loc[row,\"file\"]\n",
    "    phone = df.loc[row,\"phone\"]\n",
    "    \n",
    "    texto = message.replace(\"PersonX\", name)\n",
    "    texto = urllib.parse.quote(texto)\n",
    "    \n",
    "    link = f\"https://web.whatsapp.com/send?phone={phone}&text={texto}\"\n",
    "    \n",
    "    nav.get(link)\n",
    "    while len(nav.find_elements(By.ID, 'side')) < 1:\n",
    "        time.sleep(1)\n",
    "    time.sleep(2)\n",
    "\n",
    "    if len(nav.find_element(By.XPATH,'//*[@id=\"app\"]/div/span[2]/div/span/div/div/div/div/div/div[1]')) < 1:\n",
    "        nav.find_element(By.XPATH, '//*[@id=\"main\"]/footer/div[1]/div/span[2]/div/div[2]/div[2]/button/span').click()\n",
    "        time.sleep(10)\n",
    "\n",
    "        if file != \"N\":\n",
    "            full_path = os.path.abspath(f\"files/{file}\")\n",
    "            nav.find_element(By.XPATH, \n",
    "                                   '//*[@id=\"main\"]/footer/div[1]/div/span[2]/div/div[1]/div[2]/div/div/span').click()\n",
    "            nav.find_element(By.XPATH, \n",
    "                                   '//*[@id=\"main\"]/footer/div[1]/div/span[2]/div/div[1]/div[2]/div/span/div/div/ul/li[4]/button/input').send_keys(full_path)\n",
    "            time.sleep(2)\n",
    "            nav.find_element(By.XPATH, \n",
    "                                   '//*[@id=\"app\"]/div/div/div[2]/div[2]/span/div/span/div/div/div[2]/div/div[2]/div[2]/div/div').click()\n",
    "            \n",
    "        time.sleep(5)"
   ]
  }
 ],
 "metadata": {
  "kernelspec": {
   "display_name": "Python 3.9.13 ('base')",
   "language": "python",
   "name": "python3"
  },
  "language_info": {
   "codemirror_mode": {
    "name": "ipython",
    "version": 3
   },
   "file_extension": ".py",
   "mimetype": "text/x-python",
   "name": "python",
   "nbconvert_exporter": "python",
   "pygments_lexer": "ipython3",
   "version": "3.9.13"
  },
  "vscode": {
   "interpreter": {
    "hash": "d51fb8999423cb6596410d2217dddb474fb689da9b3dd35d24464e92bfd76ac7"
   }
  }
 },
 "nbformat": 4,
 "nbformat_minor": 5
}
